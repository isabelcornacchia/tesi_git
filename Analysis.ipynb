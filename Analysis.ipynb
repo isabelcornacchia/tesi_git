{
 "cells": [
  {
   "cell_type": "code",
   "execution_count": null,
   "metadata": {},
   "outputs": [],
   "source": [
    "%pylab inline\n",
    "from mpl_toolkits.mplot3d import Axes3D\n",
    "from matplotlib.collections import LineCollection\n",
    "import seaborn as sns\n",
    "sns.set_style(\"white\")"
   ]
  },
  {
   "cell_type": "code",
   "execution_count": null,
   "metadata": {},
   "outputs": [],
   "source": [
    "pfc=load(\"D1/pfc.npy\")\n",
    "Vs=load(\"D1/Vdynamics.npy\")"
   ]
  },
  {
   "cell_type": "code",
   "execution_count": null,
   "metadata": {},
   "outputs": [],
   "source": [
    "fig = plt.figure(figsize=(8,8))\n",
    "ax = fig.add_subplot(111, projection='3d')\n",
    "ax.grid(False)\n",
    "verts = []\n",
    "zs = range(5,50,2)\n",
    "for i in zs:\n",
    "    verts.append(list(zip(pfc,Vs[i])))    \n",
    "poly = LineCollection(verts)\n",
    "ax.add_collection3d(poly, zs=zs, zdir='y')\n",
    "ax.set_xlim3d(pfc.min(),pfc.max())\n",
    "ax.set_zlim3d(Vs[-1].min(), Vs[-1].max())\n",
    "ax.set_ylim3d(asarray(zs).min(), asarray(zs).max())\n",
    "ax.set_xlabel('Position (cm)',fontsize=20)\n",
    "ax.set_ylabel('Time (a.u.)',fontsize=20)\n",
    "ax.set_zlabel('Rate (a.u)',fontsize=20)\n",
    "plt.show()"
   ]
  },
  {
   "cell_type": "markdown",
   "metadata": {},
   "source": [
    "# MULTIMAPS"
   ]
  },
  {
   "cell_type": "code",
   "execution_count": null,
   "metadata": {},
   "outputs": [],
   "source": [
    "pfc=load(\"8Maps_gammas/pfc_0.1.npy\")\n",
    "Vs=load(\"8Maps_gammas/Vdynamics_0.1.npy\")\n",
    "#Vs_1=load(\"8Maps0/Vdynamics_1.npy\")"
   ]
  },
  {
   "cell_type": "code",
   "execution_count": null,
   "metadata": {},
   "outputs": [],
   "source": [
    "## 2 mappe - plot delle attività ##\n",
    "for i in range(len(Vs)):\n",
    "    figure(figsize=(10,5))\n",
    "    subplot(1,2,1)\n",
    "    scatter(pfc[0],Vs[i],c=\"k\")\n",
    "    xlabel(\"X Map 1\",fontsize=15)\n",
    "    ylabel(\"activity (a.u)\",fontsize=15)\n",
    "    ylim((-0.5,10))\n",
    "    subplot(1,2,2)\n",
    "    scatter(pfc[1],Vs[i],c=\"k\")\n",
    "    xlabel(\"X Map 2\",fontsize=15)\n",
    "    ylim((-0.5,10))\n",
    "    tight_layout()\n",
    "    savefig('videotemp/frame'+str(i+1)+'.png')"
   ]
  },
  {
   "cell_type": "code",
   "execution_count": null,
   "metadata": {},
   "outputs": [],
   "source": [
    "## m mappe - plot delle attività ##\n",
    "for i in range(len(Vs)):\n",
    "    figure(figsize=(20,10))\n",
    "    for p in range(len(pfc)):\n",
    "        subplot(2,4,p+1)\n",
    "        scatter(pfc[p],Vs[i],c=\"k\")\n",
    "        xlabel(\"X Map\"+str(p+1))\n",
    "        ylabel(\"activity (a.u)\")\n",
    "        ylim((-0.5,10))\n",
    "        tight_layout()\n",
    "    savefig(\"videotemp/frame\"+str(i+1)+\".png\")"
   ]
  },
  {
   "cell_type": "code",
   "execution_count": null,
   "metadata": {},
   "outputs": [],
   "source": [
    "def K(x1,x2,L):\n",
    "        d=x1-x2\n",
    "        if d>float(L)/2.0:\n",
    "            d=d-L\n",
    "        elif d<-float(L)/2.0:\n",
    "            d=d+L\n",
    "        return np.exp(-abs(d))\n",
    "    \n",
    "def overlap(V,pos):\n",
    "    m=0\n",
    "    for i in range(len(V)):\n",
    "        for j in range(len(V)):\n",
    "            m=m+V[i]*V[j]*K(pos[i],pos[j],10.0)\n",
    "    m=m/pow(len(V),2)\n",
    "    return m\n",
    "            \n",
    "def centerOfMass(V,pos):\n",
    "    ro=0\n",
    "    for i in range(len(V)):\n",
    "        ro=ro+V[i]*pos[i]\n",
    "    ro=ro/float(len(V))\n",
    "    return ro\n",
    "\n",
    "def peakPosition(V,pos):\n",
    "    peak=pos[argmax(V)]\n",
    "    return peak"
   ]
  },
  {
   "cell_type": "code",
   "execution_count": null,
   "metadata": {},
   "outputs": [],
   "source": [
    "time=range(len(Vs))\n",
    "m1=[]\n",
    "m2=[]\n",
    "ro1=[]\n",
    "ro2=[]\n",
    "for i in range(len(Vs)):\n",
    "    m1.append(overlap(Vs[i],pfc[0]))\n",
    "    m2.append(overlap(Vs[i],pfc[1]))\n",
    "    ro1.append(centerOfMass(Vs[i],pfc[0]))\n",
    "    ro2.append(centerOfMass(Vs[i],pfc[1]))"
   ]
  },
  {
   "cell_type": "code",
   "execution_count": null,
   "metadata": {},
   "outputs": [],
   "source": [
    "peak1=[]\n",
    "peak2=[]\n",
    "for i in range(len(Vs)):\n",
    "    peak1.append(peakPosition(Vs[i],pfc[0]))\n",
    "    peak2.append(peakPosition(Vs[i],pfc[1]))"
   ]
  },
  {
   "cell_type": "code",
   "execution_count": null,
   "metadata": {},
   "outputs": [],
   "source": [
    "figure(figsize=(15,5))\n",
    "subplot(1,3,1)\n",
    "plot(time,m1)\n",
    "plot(time,m2)\n",
    "xlabel(\"time (steps)\",fontsize=15)\n",
    "ylabel(\"overlap\",fontsize=15)\n",
    "subplot(1,3,2)\n",
    "plot(time,ro1)\n",
    "plot(time,ro2)\n",
    "xlabel(\"time (steps)\",fontsize=15)\n",
    "ylabel(\"center of mass\",fontsize=15)\n",
    "subplot(1,3,3)\n",
    "plot(time,peak1)\n",
    "plot(time,peak2)\n",
    "xlabel(\"time (steps)\",fontsize=15)\n",
    "ylabel(\"Peak position\",fontsize=15)"
   ]
  },
  {
   "cell_type": "markdown",
   "metadata": {},
   "source": [
    "# MULTIGAMMAS"
   ]
  },
  {
   "cell_type": "code",
   "execution_count": null,
   "metadata": {},
   "outputs": [],
   "source": [
    "gammas=[0.,0.1,0.2,0.3,0.4,0.5,0.6,0.7,0.8,0.9,1.0]\n",
    "pfc = np.zeros((11,8,1000))\n",
    "Vs = np.zeros((11,200,1000))\n",
    "print(gammas)"
   ]
  },
  {
   "cell_type": "code",
   "execution_count": null,
   "metadata": {},
   "outputs": [],
   "source": [
    "for g in range(len(gammas)):\n",
    "    pfc[g]=load(\"8Maps_gammas/pfc_\"+str(gammas[g])+\".npy\")\n",
    "    Vs[g]=load(\"8Maps_gammas/Vdynamics_\"+str(gammas[g])+\".npy\")\n",
    "print(pfc.shape)\n",
    "print(Vs.shape)"
   ]
  },
  {
   "cell_type": "code",
   "execution_count": null,
   "metadata": {},
   "outputs": [],
   "source": [
    "for g in range(len(gammas)):\n",
    "    for i in range(len(Vs[g])):\n",
    "        figure(figsize=(20,10))\n",
    "        for p in range(len(pfc[g])):\n",
    "            subplot(2,5,p+1)    #10 figure\n",
    "            scatter(pfc[g][p],Vs[g][i],c=\"k\")\n",
    "            xlabel(\"X Map\"+str(p+1))\n",
    "            ylabel(\"activity (a.u)\")\n",
    "            ylim((-0.5,10))\n",
    "            tight_layout()\n",
    "        savefig(\"vid_gammas_\"+str(0.1*g)+\"/frame\"+str(i+1)+\".png\")"
   ]
  },
  {
   "cell_type": "markdown",
   "metadata": {},
   "source": [
    "## OVERLAP FOR M MAPS"
   ]
  },
  {
   "cell_type": "code",
   "execution_count": null,
   "metadata": {},
   "outputs": [],
   "source": [
    "def KS(x1,x2,L):\n",
    "        d=x1-x2\n",
    "        if d>float(L)/2.0:\n",
    "            d=d-L\n",
    "        elif d<-float(L)/2.0:\n",
    "            d=d+L\n",
    "        return np.exp(-abs(d))\n",
    "    \n",
    "def overlap(V,pos):\n",
    "    m=0\n",
    "    for i in range(len(V)):\n",
    "        for j in range(i):\n",
    "            m=m+V[i]*V[j]*KS(pos[i],pos[j],10.0)\n",
    "    m=m/(float(len(V)*(len(V)-1)/2))\n",
    "    return m"
   ]
  },
  {
   "cell_type": "code",
   "execution_count": null,
   "metadata": {},
   "outputs": [],
   "source": [
    "m=np.zeros((len(pfc), len(Vs)))\n",
    "print(m.shape)\n",
    "print(Vs.shape)\n",
    "print(pfc.shape)"
   ]
  },
  {
   "cell_type": "markdown",
   "metadata": {},
   "source": [
    "### Overlap over time"
   ]
  },
  {
   "cell_type": "markdown",
   "metadata": {},
   "source": [
    "#### single gamma"
   ]
  },
  {
   "cell_type": "code",
   "execution_count": null,
   "metadata": {},
   "outputs": [],
   "source": [
    "pfc=load(\"8Maps_gammas/pfc_0.2.npy\")\n",
    "Vs=load(\"8Maps_gammas/Vdynamics_0.2.npy\")"
   ]
  },
  {
   "cell_type": "code",
   "execution_count": null,
   "metadata": {},
   "outputs": [],
   "source": [
    "time=range(len(Vs))\n",
    "m=np.zeros((len(pfc), len(Vs)))\n",
    "for k in range(len(pfc)):\n",
    "    for i in time:\n",
    "        m[k][i]=overlap(Vs[i],pfc[k])"
   ]
  },
  {
   "cell_type": "code",
   "execution_count": null,
   "metadata": {},
   "outputs": [],
   "source": [
    "figure(figsize=(15,5))\n",
    "for k in range(len(pfc)):\n",
    "    plot(time,m[k], label=\"Map \"+str(k+1))\n",
    "    \n",
    "xlabel(\"time (steps)\",fontsize=15)\n",
    "ylabel(\"overlap [$\\gamma$'=0.2]\",fontsize=15)\n",
    "plt.legend()"
   ]
  },
  {
   "cell_type": "markdown",
   "metadata": {},
   "source": [
    "#### loop for  multiple gammas"
   ]
  },
  {
   "cell_type": "code",
   "execution_count": null,
   "metadata": {},
   "outputs": [],
   "source": [
    "gammas=[0.,0.1,0.2,0.3,0.4,0.5,0.6,0.7,0.8,0.9,1.0]\n",
    "pfc = np.zeros((11,8,1000))\n",
    "Vs = np.zeros((11,200,1000))\n",
    "print(gammas)"
   ]
  },
  {
   "cell_type": "code",
   "execution_count": null,
   "metadata": {},
   "outputs": [],
   "source": [
    "m=np.zeros((len(pfc), len(pfc[0]), len(Vs[0])))\n",
    "for g in range(len(gammas)):\n",
    "    pfc[g]=load(\"8Maps_gammas/pfc_\"+str(gammas[g])+\".npy\")\n",
    "    Vs[g]=load(\"8Maps_gammas/Vdynamics_\"+str(gammas[g])+\".npy\")\n",
    "print(pfc.shape)\n",
    "print(Vs.shape)\n",
    "print(m.shape)"
   ]
  },
  {
   "cell_type": "code",
   "execution_count": null,
   "metadata": {},
   "outputs": [],
   "source": [
    "time=range(len(Vs[0]))\n",
    "for r in range(len(pfc)): #scorro sulle 11 gamma\n",
    "    for k in range(len(pfc[0])): #scorro sulle 8 mappe\n",
    "        for i in time: #scorro sui 200 step\n",
    "            m[r][k][i]=overlap(Vs[r][i],pfc[r][k])\n",
    "    figure(figsize=(15,5))\n",
    "    for k in range(len(pfc[0])):\n",
    "        plot(time,m[r][k], label=\"Map \"+str(k+1))\n",
    "    xlabel(\"time (steps)\",fontsize=15)\n",
    "    ylabel(\"overlap\",fontsize=15)\n",
    "    plt.legend()\n",
    "    plt.suptitle(\"$\\gamma$'= \"+str(gammas[r]), fontsize=19)\n",
    "    savefig(\"overlap_over_time_\"+str(gammas[r])+\".png\")\n"
   ]
  },
  {
   "cell_type": "markdown",
   "metadata": {},
   "source": [
    "### Overlap over gamma\n",
    "Overlap dell'ultimo time-step per ogni mappa, per ogni gamma"
   ]
  },
  {
   "cell_type": "code",
   "execution_count": null,
   "metadata": {},
   "outputs": [],
   "source": [
    "gammas=np.logspace(-2, log10(20), 10)\n",
    "pfc = np.zeros((len(gammas),8,1000))\n",
    "Vs = np.zeros((len(gammas),200,1000))\n",
    "print(gammas)"
   ]
  },
  {
   "cell_type": "code",
   "execution_count": null,
   "metadata": {},
   "outputs": [],
   "source": [
    "m_g=np.zeros((len(gammas),len(pfc[0])))\n",
    "for g in range(len(gammas)):\n",
    "    pfc[g]=load(\"8Maps_gammas/pfc_\"+str(g)+\".npy\")\n",
    "    Vs[g]=load(\"8Maps_gammas/Vdynamics_\"+str(g)+\".npy\")\n",
    "print(pfc.shape)\n",
    "print(Vs.shape)\n",
    "print(m_g.shape)"
   ]
  },
  {
   "cell_type": "code",
   "execution_count": null,
   "metadata": {},
   "outputs": [],
   "source": [
    "for k in range(len(gammas)): #scorro sulle 11 gamma\n",
    "    for r in range(len(pfc[0])): #scorro sulle 8 mappe\n",
    "        m_g[k][r]=overlap(Vs[k][len(Vs[0])-1],pfc[k][r])\n",
    "\n",
    "max_overlap=[]\n",
    "for k in range(len(gammas)):\n",
    "    max_overlap.append(amax(m_g[k]))\n",
    "print(max_overlap)"
   ]
  },
  {
   "cell_type": "code",
   "execution_count": null,
   "metadata": {},
   "outputs": [],
   "source": [
    "figure(figsize=(15,5))\n",
    "for k in range(len(pfc)):\n",
    "    plot(log10(gammas),max_overlap, 'o-')\n",
    "xlabel(\"gammas\",fontsize=15)\n",
    "ylabel(\"last overlap\",fontsize=15)\n",
    "savefig(\"overlap_over_gamma.png\")"
   ]
  },
  {
   "cell_type": "code",
   "execution_count": null,
   "metadata": {},
   "outputs": [],
   "source": [
    "p=np.logspace(-2, log10(20), 10)\n",
    "print(p)"
   ]
  },
  {
   "cell_type": "markdown",
   "metadata": {},
   "source": [
    "# 2D"
   ]
  },
  {
   "cell_type": "code",
   "execution_count": null,
   "metadata": {},
   "outputs": [],
   "source": [
    "pfc=load(\"D2/pfc_7.npy\")\n",
    "Vs=load(\"D2/Vdynamics_7.npy\")\n",
    "print(len(Vs))\n",
    "print(len(pfc))\n",
    "print(Vs.shape)\n",
    "print(pfc.shape)"
   ]
  },
  {
   "cell_type": "code",
   "execution_count": null,
   "metadata": {},
   "outputs": [],
   "source": [
    "## 2 MAPS only ##\n",
    "# for i in range(len(Vs)):\n",
    "#     figure(figsize=(10,5))\n",
    "#     subplot(1,2,1)\n",
    "#     scatter(pfc[0].T[0],pfc[0].T[1],c=Vs[i],cmap=cm.jet)\n",
    "#     subplot(1,2,2)\n",
    "#     scatter(pfc[1].T[0],pfc[1].T[1],c=Vs[i],cmap=cm.jet)\n",
    "#     tight_layout()\n",
    "#     savefig(\"2Dvideotemp/frame\"+str(i+1)+\".png\")"
   ]
  },
  {
   "cell_type": "code",
   "execution_count": null,
   "metadata": {},
   "outputs": [],
   "source": [
    "for i in range(150): #len(Vs)-> in realtá Vs contiene 200 timesteps \n",
    "    figure(figsize=(20,4))\n",
    "    for p in range(len(pfc)):\n",
    "        subplot(1,5,p+1)    #10 figure\n",
    "        scatter(pfc[p].T[0],pfc[p].T[1],c=Vs[i],cmap=cm.jet)\n",
    "        xlabel(\"X Map\"+str(p+1))\n",
    "        tight_layout()\n",
    "        savefig(\"2Dvideotemp/frame\"+str(i+1)+\".png\")"
   ]
  },
  {
   "cell_type": "code",
   "execution_count": null,
   "metadata": {},
   "outputs": [],
   "source": [
    "random.shuffle(pfc)"
   ]
  },
  {
   "cell_type": "code",
   "execution_count": null,
   "metadata": {},
   "outputs": [],
   "source": [
    "scatter(pfc[0].T[0],pfc[0].T[1])"
   ]
  },
  {
   "cell_type": "code",
   "execution_count": null,
   "metadata": {},
   "outputs": [],
   "source": [
    "pfc"
   ]
  },
  {
   "cell_type": "code",
   "execution_count": null,
   "metadata": {},
   "outputs": [],
   "source": []
  }
 ],
 "metadata": {
  "kernelspec": {
   "display_name": "Python 3",
   "language": "python",
   "name": "python3"
  },
  "language_info": {
   "codemirror_mode": {
    "name": "ipython",
    "version": 3
   },
   "file_extension": ".py",
   "mimetype": "text/x-python",
   "name": "python",
   "nbconvert_exporter": "python",
   "pygments_lexer": "ipython3",
   "version": "3.7.4"
  }
 },
 "nbformat": 4,
 "nbformat_minor": 2
}
