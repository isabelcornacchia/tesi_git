{
 "cells": [
  {
   "cell_type": "code",
   "execution_count": null,
   "metadata": {},
   "outputs": [],
   "source": [
    "%pylab inline"
   ]
  },
  {
   "cell_type": "code",
   "execution_count": null,
   "metadata": {},
   "outputs": [],
   "source": [
    "ms=np.linspace(2,12,6) #2,20,10\n",
    "gammas=np.array([0.,0.1,0.2,0.3,0.4,0.5,0.6,0.7,0.8,1.,2.,3.,4.])\n",
    "samples=5 #iterations for each gamma and m"
   ]
  },
  {
   "cell_type": "code",
   "execution_count": null,
   "metadata": {},
   "outputs": [],
   "source": [
    "i=5 #indice mappa per i dynamics plot\n",
    "pfc=np.zeros((len(gammas),samples,int(ms[i]),900,2)) #indici:gamma,samples,n^mappe,N,2D\n",
    "Vfinal=np.zeros((len(gammas),samples,900))"
   ]
  },
  {
   "cell_type": "code",
   "execution_count": null,
   "metadata": {},
   "outputs": [],
   "source": [
    "for j in range(len(gammas)): \n",
    "    for k in range(samples):\n",
    "        pfc[j][k]=load(\"SC2/pfc_\"+str(i)+str(j)+str(k)+\".npy\")\n",
    "        Vfinal[j][k]=load(\"SC2/Vfinal_\"+str(i)+str(j)+str(k)+\".npy\")"
   ]
  },
  {
   "cell_type": "code",
   "execution_count": null,
   "metadata": {},
   "outputs": [],
   "source": [
    "print(pfc.shape)\n",
    "print(Vfinal.shape)"
   ]
  },
  {
   "cell_type": "markdown",
   "metadata": {},
   "source": [
    "### Dynamics Plot"
   ]
  },
  {
   "cell_type": "code",
   "execution_count": null,
   "metadata": {
    "scrolled": false
   },
   "outputs": [],
   "source": [
    "for j in range(len(gammas)): \n",
    "    for k in range(samples): \n",
    "        figure(figsize=(16,12)) #calcolare figure da 4x4\n",
    "        for p in range(len(pfc[0][0])): #indice sulle mappe\n",
    "            subplot(3,4,p+1)    #aggiustare in base alle mappe\n",
    "            scatter(pfc[j][k][p].T[0],pfc[j][k][p].T[1],c=Vfinal[j][k],cmap=cm.jet)\n",
    "            xlabel(\"X Map\"+str(p+1))\n",
    "            tight_layout()\n",
    "            savefig(\"2Dfinal/m\"+str(int(ms[i]))+\"_gamma\"+str(j+1)+\"0_sample\"+str(k+1)+\".png\")"
   ]
  },
  {
   "cell_type": "markdown",
   "metadata": {},
   "source": [
    "### Overlap Plot (for fixed i)"
   ]
  },
  {
   "cell_type": "code",
   "execution_count": null,
   "metadata": {},
   "outputs": [],
   "source": [
    "overlaps=np.zeros((len(gammas),samples,int(ms[i])))\n",
    "retrieval=np.zeros((len(gammas),samples))\n",
    "maxoverlaps=np.zeros((len(gammas),samples))\n",
    "for j in range(len(gammas)):\n",
    "    for k in range(samples):\n",
    "        overlaps[j][k]=load(\"SC2/overlaps_\"+str(i)+str(j)+str(k)+\".npy\")\n",
    "        sortedov=sort(overlaps[j][k])\n",
    "        maxoverlaps[j][k]= max(overlaps[j][k]) #sortedov[-1] \n",
    "        if max(overlaps[j][k])>0.16: #soglia da definire (come?)\n",
    "            retrieval[j][k]=1\n",
    "rf=np.zeros(len(gammas))\n",
    "meanmaxoverlap=np.zeros(len(gammas))\n",
    "for j in range(len(retrieval)):\n",
    "    rf[j]=mean(retrieval[j])\n",
    "    meanmaxoverlap[j]=mean(maxoverlaps[j])"
   ]
  },
  {
   "cell_type": "code",
   "execution_count": null,
   "metadata": {},
   "outputs": [],
   "source": [
    "figure(figsize(6,4))\n",
    "plot(gammas,meanmaxoverlap)\n",
    "plt.suptitle(str(int(ms[i]))+\" maps\")\n",
    "xlabel(\"gamma\")\n",
    "ylabel(\"meanmaxoverlap\")\n",
    "#savefig(\"maxoverlap_m\"+str(int(ms[i]))+\".png\")"
   ]
  },
  {
   "cell_type": "code",
   "execution_count": null,
   "metadata": {
    "scrolled": true
   },
   "outputs": [],
   "source": [
    "plot(gammas,rf)\n",
    "xlabel(\"gammas\")\n",
    "ylabel(\"retrieval\")\n",
    "plt.suptitle(str(int(ms[i]))+\" maps\")"
   ]
  },
  {
   "cell_type": "markdown",
   "metadata": {},
   "source": [
    "### Overlap Plot (for all i)"
   ]
  },
  {
   "cell_type": "code",
   "execution_count": null,
   "metadata": {},
   "outputs": [],
   "source": [
    "meanmaxoverlap=np.zeros((len(ms),len(gammas))) \n",
    "for i in range(len(ms)): #len(ms)\n",
    "    overlaps=np.zeros((len(gammas),samples,int(ms[i])))\n",
    "    retrieval=np.zeros((len(gammas),samples))\n",
    "    maxoverlaps=np.zeros((len(gammas),samples))\n",
    "    for j in range(len(gammas)):\n",
    "        for k in range(samples):\n",
    "            overlaps[j][k]=load(\"SC2/overlaps_\"+str(i)+str(j)+str(k)+\".npy\")\n",
    "            sortedov=sort(overlaps[j][k])\n",
    "            maxoverlaps[j][k]= max(overlaps[j][k]) #sortedov[-1] \n",
    "            if max(overlaps[j][k])>0.16: #soglia da definire (come?)\n",
    "                retrieval[j][k]=1\n",
    "    rf=np.zeros(len(gammas))\n",
    "    for j in range(len(retrieval)):\n",
    "        rf[j]=mean(retrieval[j])\n",
    "        meanmaxoverlap[i][j]=mean(maxoverlaps[j])"
   ]
  },
  {
   "cell_type": "code",
   "execution_count": null,
   "metadata": {},
   "outputs": [],
   "source": [
    "print(meanmaxoverlap[0].shape)\n",
    "print(gammas.shape)"
   ]
  },
  {
   "cell_type": "code",
   "execution_count": null,
   "metadata": {},
   "outputs": [],
   "source": [
    "figure(figsize(14,8))\n",
    "for i in range(len(ms)):\n",
    "    plot(gammas,meanmaxoverlap[i], label=str(int(ms[i]))+\" maps\")\n",
    "xlabel(\"gammas\")\n",
    "ylabel(\"meanmaxoverlap\")\n",
    "plt.legend()\n",
    "#savefig(\"meanmaxoverlap_1.png\")"
   ]
  },
  {
   "cell_type": "markdown",
   "metadata": {},
   "source": [
    "### Retrieval Probability Plot"
   ]
  },
  {
   "cell_type": "code",
   "execution_count": null,
   "metadata": {},
   "outputs": [],
   "source": [
    "rfs=[]\n",
    "for i in range(5):\n",
    "    overlaps=np.zeros((len(gammas),samples,int(ms[i])))\n",
    "    retrieval=np.zeros((len(gammas),samples))\n",
    "    maxoverlaps=np.zeros((len(gammas),samples))\n",
    "    for j in range(len(gammas)):\n",
    "        for k in range(samples):\n",
    "            overlaps[j][k]=load(\"SC2/overlaps_\"+str(i)+str(j)+str(k)+\".npy\")\n",
    "            maxoverlaps[j][k]=min(overlaps[j][k])\n",
    "            if max(overlaps[j][k])>0.5:\n",
    "                retrieval[j][k]=1\n",
    "    rf=np.zeros(len(gammas))\n",
    "    meanmaxoverlap=np.zeros(len(gammas))\n",
    "    for j in range(len(retrieval)):\n",
    "        rf[j]=mean(retrieval[j])\n",
    "        meanmaxoverlap[j]=mean(maxoverlaps[j])\n",
    "    rfs.append(rf)"
   ]
  },
  {
   "cell_type": "code",
   "execution_count": null,
   "metadata": {},
   "outputs": [],
   "source": [
    "rfs1=asarray(rfs).T"
   ]
  },
  {
   "cell_type": "code",
   "execution_count": null,
   "metadata": {},
   "outputs": [],
   "source": [
    "figure(figsize(8,8))\n",
    "for r in range(len(rfs1)):\n",
    "    scatter(ms,rfs1[r],label=\"gamma=%.2f\" % gammas[r])\n",
    "    plot(ms,rfs1[r])\n",
    "xlabel(\"p (# of stored maps)\",fontsize=15)\n",
    "ylabel(\"retrieval probability\",fontsize=15)\n",
    "legend()"
   ]
  },
  {
   "cell_type": "code",
   "execution_count": null,
   "metadata": {},
   "outputs": [],
   "source": []
  }
 ],
 "metadata": {
  "kernelspec": {
   "display_name": "Python 3",
   "language": "python",
   "name": "python3"
  },
  "language_info": {
   "codemirror_mode": {
    "name": "ipython",
    "version": 3
   },
   "file_extension": ".py",
   "mimetype": "text/x-python",
   "name": "python",
   "nbconvert_exporter": "python",
   "pygments_lexer": "ipython3",
   "version": "3.7.4"
  }
 },
 "nbformat": 4,
 "nbformat_minor": 2
}
